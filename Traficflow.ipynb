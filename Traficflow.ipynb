{
 "cells": [
  {
   "cell_type": "markdown",
   "metadata": {},
   "source": [
    "### Trafic flow simulation "
   ]
  },
  {
   "cell_type": "code",
   "execution_count": 38,
   "metadata": {},
   "outputs": [
    {
     "name": "stdout",
     "output_type": "stream",
     "text": [
      "51\n",
      "51\n",
      "51\n",
      "51\n",
      "51\n",
      "[125.12       125.12       125.12       125.12       125.12\n",
      " 125.12       125.12       125.12       125.12       125.12\n",
      " 116.06388364 108.8        108.8        108.8        108.8\n",
      " 108.8        108.8        108.8        108.8        108.8\n",
      " 117.85611636 125.12       125.12       125.12       125.12\n",
      " 125.12       125.12       125.12       125.12       125.12\n",
      " 125.12       125.12       125.12       125.12       125.12\n",
      " 125.12       125.12       125.12       125.12       125.12\n",
      " 125.12       125.12       125.12       125.12       125.12\n",
      " 125.12       125.12       125.12       125.12       125.12\n",
      " 125.12      ]\n",
      "30.222222222222225\n"
     ]
    },
    {
     "data": {
      "image/png": "[encoded data removed]",
      "text/plain": [
       "<Figure size 432x288 with 1 Axes>"
      ]
     },
     "metadata": {
      "needs_background": "light"
     },
     "output_type": "display_data"
    }
   ],
   "source": [
    "import numpy\n",
    "from matplotlib import pyplot\n",
    "from statistics import mean\n",
    "\n",
    "\n",
    "# Set parameters.\n",
    "\n",
    "nx = 51  # number of spatial discrete points\n",
    "L = 11  # length of the 1D domain\n",
    "dx = L / (nx - 1)  # spatial grid size\n",
    "nt = 120  # number of time steps\n",
    "dt = 0.001  # time-step size\n",
    "\n",
    "# Define the grid point coordinates.\n",
    "x = numpy.linspace(0.0, L, num=nx)\n",
    "rho0 = numpy.ones(nx)*20\n",
    "rho0[10:20] = 50\n",
    "rho_max=250\n",
    "vmax=136\n",
    "v = numpy.ones(nx)\n",
    "\n",
    "#print(rho0)\n",
    "\n",
    "\n",
    "\n",
    "v1= vmax*(1-(rho0/rho_max)) #at time step zero\n",
    "\n",
    "rho=rho0.copy()\n",
    "#for n in range(1, 100):\n",
    " #   rho[1:] = rho[1:] - dt / dx * vmax* (rho[1:] - rho[:-1]-(rho[1:]**2/rho_max)+(rho[:-1]**2/rho_max))\n",
    "    #vin[n]=rho\n",
    "    #print(vin)\n",
    "\n",
    "rho = rho0.copy()\n",
    "\n",
    "#Finite difference discretization in Forward in time and backward in space\n",
    "for n in range(5):\n",
    "    rhon = rho0.copy()\n",
    "    for i in range(1,nx):\n",
    "        rho[i] = rhon[i] - (dt / dx) * vmax* (rhon[i] - rhon[i - 1]-(rhon[i]**2/rho_max)+rhon[i-1]**2/rho_max)\n",
    "    rho[0] = rho0[0]\n",
    "    print(len(rho))\n",
    "v= vmax*(1-(rho/rho_max))    \n",
    "pyplot.plot(numpy.linspace(0,L,nx),v,v1)\n",
    "\n",
    "print(v)\n",
    "print(min(v)*(5/18))"
   ]
  }
 ],
 "metadata": {
  "kernelspec": {
   "display_name": "Python 3",
   "language": "python",
   "name": "python3"
  },
  "language_info": {
   "codemirror_mode": {
    "name": "ipython",
    "version": 3
   },
   "file_extension": ".py",
   "mimetype": "text/x-python",
   "name": "python",
   "nbconvert_exporter": "python",
   "pygments_lexer": "ipython3",
   "version": "3.7.4"
  }
 },
 "nbformat": 4,
 "nbformat_minor": 4
}
